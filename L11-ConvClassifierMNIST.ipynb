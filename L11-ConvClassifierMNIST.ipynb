{
 "cells": [
  {
   "cell_type": "code",
   "execution_count": 1,
   "metadata": {},
   "outputs": [],
   "source": [
    "import torch\n",
    "import torch.nn as nn\n",
    "import torch.nn.functional as F\n",
    "import torch.optim as optim\n",
    "from torchvision import datasets, transforms\n",
    "\n",
    "from utils import mnist, plot_graphs, plot_mnist\n",
    "import numpy as np\n",
    "\n",
    "import matplotlib\n",
    "import matplotlib.pyplot as plt\n",
    "import numpy as np\n",
    "%matplotlib inline"
   ]
  },
  {
   "cell_type": "markdown",
   "metadata": {},
   "source": [
    "# Сверточный классификатор"
   ]
  },
  {
   "cell_type": "code",
   "execution_count": 2,
   "metadata": {},
   "outputs": [],
   "source": [
    "train_loader, valid_loader, test_loader = mnist(valid=10000, transform=transforms.ToTensor())"
   ]
  },
  {
   "cell_type": "code",
   "execution_count": 3,
   "metadata": {},
   "outputs": [],
   "source": [
    "class ConvLayer(nn.Module):\n",
    "    def __init__(self, size, padding=1, pool_layer=nn.MaxPool2d(2, stride=2),\n",
    "                 bn=False, dropout=False, activation_fn=nn.ReLU()):\n",
    "        super(ConvLayer, self).__init__()\n",
    "        layers = []\n",
    "        layers.append(nn.Conv2d(size[0], size[1], size[2], padding=padding))\n",
    "        if pool_layer is not None:\n",
    "            layers.append(pool_layer)\n",
    "        if bn:\n",
    "            layers.append(nn.BatchNorm2d(size[1]))\n",
    "        if dropout:\n",
    "            layers.append(nn.Dropout2d())\n",
    "        layers.append(activation_fn)\n",
    "        \n",
    "        self.model = nn.Sequential(*layers)\n",
    "    \n",
    "    def forward(self, x):\n",
    "        return self.model(x)"
   ]
  },
  {
   "cell_type": "code",
   "execution_count": 4,
   "metadata": {},
   "outputs": [],
   "source": [
    "class FullyConnected(nn.Module):\n",
    "    def __init__(self, sizes, dropout=False, activation_fn=nn.Tanh):\n",
    "        super(FullyConnected, self).__init__()\n",
    "        layers = []\n",
    "        \n",
    "        for i in range(len(sizes) - 2):\n",
    "            layers.append(nn.Linear(sizes[i], sizes[i+1]))\n",
    "            if dropout:\n",
    "                layers.append(nn.Dropout())\n",
    "            layers.append(activation_fn())\n",
    "        else: # нам не нужен дропаут и фнкция активации в последнем слое\n",
    "            layers.append(nn.Linear(sizes[-2], sizes[-1]))\n",
    "        \n",
    "        self.model = nn.Sequential(*layers)\n",
    "        \n",
    "    def forward(self, x):\n",
    "        return self.model(x)"
   ]
  },
  {
   "cell_type": "code",
   "execution_count": 5,
   "metadata": {},
   "outputs": [],
   "source": [
    "class Net(nn.Module):\n",
    "    def __init__(self, batchnorm=False, dropout=False, lr=1e-4, l2=0.):\n",
    "        super(Net, self).__init__()\n",
    "        \n",
    "        \n",
    "        self._conv1 = ConvLayer([1, 16, 3], bn=batchnorm)\n",
    "        self._conv2 = ConvLayer([16, 32, 3], bn=batchnorm, activation_fn=nn.Sigmoid())\n",
    "        \n",
    "        self.fc = FullyConnected([32*7*7, 10], dropout=dropout)\n",
    "        \n",
    "        self._loss = None\n",
    "        self.optim = optim.Adam(self.parameters(), lr=lr, weight_decay=l2)\n",
    "    \n",
    "    def conv(self, x):\n",
    "        x = self._conv1(x)\n",
    "        x = self._conv2(x)\n",
    "        return x\n",
    "        \n",
    "    def forward(self, x):\n",
    "        x = self.conv(x)\n",
    "        x = x.view(-1, 32*7*7)\n",
    "        x = self.fc(x)\n",
    "        return x\n",
    "    \n",
    "    def loss(self, output, target, **kwargs):\n",
    "        self._loss = F.cross_entropy(output, target, **kwargs)\n",
    "        self._correct = output.data.max(1, keepdim=True)[1]\n",
    "        self._correct = self._correct.eq(target.data.view_as(self._correct)).to(torch.float).cpu().mean()\n",
    "        return self._loss"
   ]
  },
  {
   "cell_type": "code",
   "execution_count": 6,
   "metadata": {},
   "outputs": [],
   "source": [
    "models = {'bn': Net(True), 'drop': Net(False, True), 'plain': Net()}\n",
    "train_log = {k: [] for k in models}\n",
    "test_log = {k: [] for k in models}"
   ]
  },
  {
   "cell_type": "code",
   "execution_count": 7,
   "metadata": {},
   "outputs": [],
   "source": [
    "def train(epoch, models, log=None):\n",
    "    train_size = len(train_loader.sampler)\n",
    "    for batch_idx, (data, target) in enumerate(train_loader):\n",
    "        for model in models.values():\n",
    "            model.optim.zero_grad()\n",
    "            output = model(data)\n",
    "            loss = model.loss(output, target)\n",
    "            loss.backward()\n",
    "            model.optim.step()\n",
    "            \n",
    "        if batch_idx % 200 == 0:\n",
    "            line = 'Train Epoch: {} [{}/{} ({:.0f}%)]\\tLosses '.format(\n",
    "                epoch, batch_idx * len(data), train_size, 100. * batch_idx / len(train_loader))\n",
    "            losses = ' '.join(['{}: {:.6f}'.format(k, m._loss.item()) for k, m in models.items()])\n",
    "            print(line + losses)\n",
    "            \n",
    "    else:\n",
    "        batch_idx += 1\n",
    "        line = 'Train Epoch: {} [{}/{} ({:.0f}%)]\\tLosses '.format(\n",
    "            epoch, batch_idx * len(data), train_size, 100. * batch_idx / len(train_loader))\n",
    "        losses = ' '.join(['{}: {:.6f}'.format(k, m._loss.item()) for k, m in models.items()])\n",
    "        if log is not None:\n",
    "            for k in models:\n",
    "                log[k].append((models[k]._loss, models[k]._correct))\n",
    "        print(line + losses)"
   ]
  },
  {
   "cell_type": "code",
   "execution_count": 8,
   "metadata": {},
   "outputs": [],
   "source": [
    "def test(models, loader, log=None):\n",
    "    test_size = len(loader.sampler)\n",
    "    avg_lambda = lambda l: 'Loss: {:.4f}'.format(l)\n",
    "    acc_lambda = lambda c, p: 'Accuracy: {}/{} ({:.0f}%)'.format(c, test_size, p)\n",
    "    line = lambda i, l, c, p: '{}: '.format(i) + avg_lambda(l) + '\\t' + acc_lambda(c, p)\n",
    "\n",
    "    test_loss = {k: 0. for k in models}\n",
    "    correct = {k: 0. for k in models}\n",
    "    with torch.no_grad():\n",
    "        for data, target in loader:\n",
    "            output = {k: m(data) for k, m in models.items()}\n",
    "            for k, m in models.items():\n",
    "                test_loss[k] += m.loss(output[k], target, reduction='sum').item() # sum up batch loss\n",
    "                pred = output[k].data.max(1, keepdim=True)[1] # get the index of the max log-probability\n",
    "                correct[k] += pred.eq(target.data.view_as(pred)).cpu().sum().item()\n",
    "    \n",
    "    for k in models:\n",
    "        test_loss[k] /= test_size\n",
    "    correct_pct = {k: c / test_size for k, c in correct.items()}\n",
    "    lines = '\\n'.join([line(k, test_loss[k], correct[k], 100*correct_pct[k]) for k in models]) + '\\n'\n",
    "    report = 'Test set:\\n' + lines\n",
    "    if log is not None:\n",
    "        for k in models:\n",
    "            log[k].append((test_loss[k], correct_pct[k]))\n",
    "    print(report)"
   ]
  },
  {
   "cell_type": "code",
   "execution_count": 9,
   "metadata": {
    "scrolled": true
   },
   "outputs": [
    {
     "name": "stdout",
     "output_type": "stream",
     "text": [
      "Train Epoch: 1 [0/50000 (0%)]\tLosses bn: 2.333333 drop: 2.385560 plain: 2.368669\n",
      "Train Epoch: 1 [10000/50000 (20%)]\tLosses bn: 1.728194 drop: 2.313151 plain: 2.291450\n",
      "Train Epoch: 1 [20000/50000 (40%)]\tLosses bn: 1.137565 drop: 2.187707 plain: 2.081435\n",
      "Train Epoch: 1 [30000/50000 (60%)]\tLosses bn: 0.822178 drop: 1.885422 plain: 1.676646\n",
      "Train Epoch: 1 [40000/50000 (80%)]\tLosses bn: 0.768286 drop: 1.436273 plain: 1.265819\n",
      "Train Epoch: 1 [50000/50000 (100%)]\tLosses bn: 0.393038 drop: 0.902878 plain: 0.807058\n",
      "Test set:\n",
      "bn: Loss: 0.5342\tAccuracy: 9214.0/10000 (92%)\n",
      "drop: Loss: 1.0528\tAccuracy: 7921.0/10000 (79%)\n",
      "plain: Loss: 0.9598\tAccuracy: 7980.0/10000 (80%)\n",
      "\n",
      "Train Epoch: 2 [0/50000 (0%)]\tLosses bn: 0.439871 drop: 0.978424 plain: 0.883809\n",
      "Train Epoch: 2 [10000/50000 (20%)]\tLosses bn: 0.488115 drop: 0.877356 plain: 0.858700\n",
      "Train Epoch: 2 [20000/50000 (40%)]\tLosses bn: 0.518857 drop: 0.849967 plain: 0.843591\n",
      "Train Epoch: 2 [30000/50000 (60%)]\tLosses bn: 0.344929 drop: 0.533767 plain: 0.525568\n",
      "Train Epoch: 2 [40000/50000 (80%)]\tLosses bn: 0.290844 drop: 0.525949 plain: 0.555414\n",
      "Train Epoch: 2 [50000/50000 (100%)]\tLosses bn: 0.375262 drop: 0.678121 plain: 0.705435\n",
      "Test set:\n",
      "bn: Loss: 0.2679\tAccuracy: 9503.0/10000 (95%)\n",
      "drop: Loss: 0.4751\tAccuracy: 8808.0/10000 (88%)\n",
      "plain: Loss: 0.4865\tAccuracy: 8718.0/10000 (87%)\n",
      "\n",
      "Train Epoch: 3 [0/50000 (0%)]\tLosses bn: 0.159282 drop: 0.359654 plain: 0.369938\n",
      "Train Epoch: 3 [10000/50000 (20%)]\tLosses bn: 0.257408 drop: 0.450215 plain: 0.445235\n",
      "Train Epoch: 3 [20000/50000 (40%)]\tLosses bn: 0.262506 drop: 0.431044 plain: 0.461214\n",
      "Train Epoch: 3 [30000/50000 (60%)]\tLosses bn: 0.231963 drop: 0.455659 plain: 0.479887\n",
      "Train Epoch: 3 [40000/50000 (80%)]\tLosses bn: 0.207795 drop: 0.395379 plain: 0.420476\n",
      "Train Epoch: 3 [50000/50000 (100%)]\tLosses bn: 0.233342 drop: 0.474943 plain: 0.488274\n",
      "Test set:\n",
      "bn: Loss: 0.1800\tAccuracy: 9605.0/10000 (96%)\n",
      "drop: Loss: 0.3464\tAccuracy: 9061.0/10000 (91%)\n",
      "plain: Loss: 0.3646\tAccuracy: 8983.0/10000 (90%)\n",
      "\n",
      "Train Epoch: 4 [0/50000 (0%)]\tLosses bn: 0.197098 drop: 0.320200 plain: 0.328083\n",
      "Train Epoch: 4 [10000/50000 (20%)]\tLosses bn: 0.202581 drop: 0.439757 plain: 0.477346\n",
      "Train Epoch: 4 [20000/50000 (40%)]\tLosses bn: 0.126992 drop: 0.309819 plain: 0.315211\n",
      "Train Epoch: 4 [30000/50000 (60%)]\tLosses bn: 0.106163 drop: 0.182319 plain: 0.216853\n",
      "Train Epoch: 4 [40000/50000 (80%)]\tLosses bn: 0.146637 drop: 0.307775 plain: 0.327610\n",
      "Train Epoch: 4 [50000/50000 (100%)]\tLosses bn: 0.175030 drop: 0.290684 plain: 0.296200\n",
      "Test set:\n",
      "bn: Loss: 0.1405\tAccuracy: 9676.0/10000 (97%)\n",
      "drop: Loss: 0.2814\tAccuracy: 9238.0/10000 (92%)\n",
      "plain: Loss: 0.3017\tAccuracy: 9166.0/10000 (92%)\n",
      "\n",
      "Train Epoch: 5 [0/50000 (0%)]\tLosses bn: 0.122830 drop: 0.299587 plain: 0.335767\n",
      "Train Epoch: 5 [10000/50000 (20%)]\tLosses bn: 0.186172 drop: 0.301456 plain: 0.326719\n",
      "Train Epoch: 5 [20000/50000 (40%)]\tLosses bn: 0.161861 drop: 0.257622 plain: 0.272985\n",
      "Train Epoch: 5 [30000/50000 (60%)]\tLosses bn: 0.069973 drop: 0.163320 plain: 0.173363\n",
      "Train Epoch: 5 [40000/50000 (80%)]\tLosses bn: 0.117073 drop: 0.252061 plain: 0.283468\n",
      "Train Epoch: 5 [50000/50000 (100%)]\tLosses bn: 0.106288 drop: 0.218775 plain: 0.233840\n",
      "Test set:\n",
      "bn: Loss: 0.1137\tAccuracy: 9716.0/10000 (97%)\n",
      "drop: Loss: 0.2347\tAccuracy: 9346.0/10000 (93%)\n",
      "plain: Loss: 0.2560\tAccuracy: 9292.0/10000 (93%)\n",
      "\n",
      "Train Epoch: 6 [0/50000 (0%)]\tLosses bn: 0.159817 drop: 0.273239 plain: 0.295065\n",
      "Train Epoch: 6 [10000/50000 (20%)]\tLosses bn: 0.059439 drop: 0.201380 plain: 0.238729\n",
      "Train Epoch: 6 [20000/50000 (40%)]\tLosses bn: 0.170569 drop: 0.310481 plain: 0.379976\n",
      "Train Epoch: 6 [30000/50000 (60%)]\tLosses bn: 0.065531 drop: 0.215854 plain: 0.250207\n",
      "Train Epoch: 6 [40000/50000 (80%)]\tLosses bn: 0.040718 drop: 0.150705 plain: 0.175430\n",
      "Train Epoch: 6 [50000/50000 (100%)]\tLosses bn: 0.145621 drop: 0.280522 plain: 0.289116\n",
      "Test set:\n",
      "bn: Loss: 0.0968\tAccuracy: 9756.0/10000 (98%)\n",
      "drop: Loss: 0.2026\tAccuracy: 9421.0/10000 (94%)\n",
      "plain: Loss: 0.2241\tAccuracy: 9361.0/10000 (94%)\n",
      "\n",
      "Train Epoch: 7 [0/50000 (0%)]\tLosses bn: 0.074175 drop: 0.127798 plain: 0.171976\n",
      "Train Epoch: 7 [10000/50000 (20%)]\tLosses bn: 0.051740 drop: 0.115839 plain: 0.124288\n",
      "Train Epoch: 7 [20000/50000 (40%)]\tLosses bn: 0.074308 drop: 0.244703 plain: 0.283921\n",
      "Train Epoch: 7 [30000/50000 (60%)]\tLosses bn: 0.056744 drop: 0.134243 plain: 0.148676\n",
      "Train Epoch: 7 [40000/50000 (80%)]\tLosses bn: 0.191358 drop: 0.266976 plain: 0.267452\n",
      "Train Epoch: 7 [50000/50000 (100%)]\tLosses bn: 0.079772 drop: 0.172349 plain: 0.157215\n",
      "Test set:\n",
      "bn: Loss: 0.0851\tAccuracy: 9783.0/10000 (98%)\n",
      "drop: Loss: 0.1789\tAccuracy: 9510.0/10000 (95%)\n",
      "plain: Loss: 0.1988\tAccuracy: 9445.0/10000 (94%)\n",
      "\n",
      "Train Epoch: 8 [0/50000 (0%)]\tLosses bn: 0.084113 drop: 0.211569 plain: 0.194648\n",
      "Train Epoch: 8 [10000/50000 (20%)]\tLosses bn: 0.097436 drop: 0.222905 plain: 0.262387\n",
      "Train Epoch: 8 [20000/50000 (40%)]\tLosses bn: 0.175931 drop: 0.197936 plain: 0.215191\n",
      "Train Epoch: 8 [30000/50000 (60%)]\tLosses bn: 0.071771 drop: 0.108233 plain: 0.113830\n",
      "Train Epoch: 8 [40000/50000 (80%)]\tLosses bn: 0.148756 drop: 0.214122 plain: 0.230758\n",
      "Train Epoch: 8 [50000/50000 (100%)]\tLosses bn: 0.031557 drop: 0.092791 plain: 0.110806\n",
      "Test set:\n",
      "bn: Loss: 0.0790\tAccuracy: 9781.0/10000 (98%)\n",
      "drop: Loss: 0.1601\tAccuracy: 9547.0/10000 (95%)\n",
      "plain: Loss: 0.1793\tAccuracy: 9487.0/10000 (95%)\n",
      "\n",
      "Train Epoch: 9 [0/50000 (0%)]\tLosses bn: 0.039410 drop: 0.091143 plain: 0.109930\n",
      "Train Epoch: 9 [10000/50000 (20%)]\tLosses bn: 0.028299 drop: 0.129051 plain: 0.152224\n",
      "Train Epoch: 9 [20000/50000 (40%)]\tLosses bn: 0.096698 drop: 0.140644 plain: 0.168948\n",
      "Train Epoch: 9 [30000/50000 (60%)]\tLosses bn: 0.024921 drop: 0.103323 plain: 0.121782\n",
      "Train Epoch: 9 [40000/50000 (80%)]\tLosses bn: 0.176519 drop: 0.169075 plain: 0.219423\n",
      "Train Epoch: 9 [50000/50000 (100%)]\tLosses bn: 0.088028 drop: 0.171048 plain: 0.176487\n",
      "Test set:\n",
      "bn: Loss: 0.0696\tAccuracy: 9814.0/10000 (98%)\n",
      "drop: Loss: 0.1441\tAccuracy: 9615.0/10000 (96%)\n",
      "plain: Loss: 0.1622\tAccuracy: 9543.0/10000 (95%)\n",
      "\n",
      "Train Epoch: 10 [0/50000 (0%)]\tLosses bn: 0.055733 drop: 0.115258 plain: 0.159898\n",
      "Train Epoch: 10 [10000/50000 (20%)]\tLosses bn: 0.123364 drop: 0.223701 plain: 0.244248\n",
      "Train Epoch: 10 [20000/50000 (40%)]\tLosses bn: 0.051751 drop: 0.195529 plain: 0.180317\n",
      "Train Epoch: 10 [30000/50000 (60%)]\tLosses bn: 0.039921 drop: 0.108700 plain: 0.098249\n",
      "Train Epoch: 10 [40000/50000 (80%)]\tLosses bn: 0.143094 drop: 0.154254 plain: 0.137647\n",
      "Train Epoch: 10 [50000/50000 (100%)]\tLosses bn: 0.034719 drop: 0.083057 plain: 0.093217\n",
      "Test set:\n",
      "bn: Loss: 0.0641\tAccuracy: 9825.0/10000 (98%)\n",
      "drop: Loss: 0.1325\tAccuracy: 9633.0/10000 (96%)\n",
      "plain: Loss: 0.1497\tAccuracy: 9585.0/10000 (96%)\n",
      "\n",
      "Train Epoch: 11 [0/50000 (0%)]\tLosses bn: 0.055072 drop: 0.175642 plain: 0.215820\n",
      "Train Epoch: 11 [10000/50000 (20%)]\tLosses bn: 0.057411 drop: 0.125924 plain: 0.156658\n",
      "Train Epoch: 11 [20000/50000 (40%)]\tLosses bn: 0.013865 drop: 0.056134 plain: 0.077903\n",
      "Train Epoch: 11 [30000/50000 (60%)]\tLosses bn: 0.103890 drop: 0.177542 plain: 0.183928\n",
      "Train Epoch: 11 [40000/50000 (80%)]\tLosses bn: 0.021526 drop: 0.079775 plain: 0.093923\n",
      "Train Epoch: 11 [50000/50000 (100%)]\tLosses bn: 0.040371 drop: 0.099724 plain: 0.119241\n",
      "Test set:\n",
      "bn: Loss: 0.0612\tAccuracy: 9834.0/10000 (98%)\n",
      "drop: Loss: 0.1230\tAccuracy: 9677.0/10000 (97%)\n",
      "plain: Loss: 0.1386\tAccuracy: 9629.0/10000 (96%)\n",
      "\n",
      "Train Epoch: 12 [0/50000 (0%)]\tLosses bn: 0.018034 drop: 0.078033 plain: 0.106290\n",
      "Train Epoch: 12 [10000/50000 (20%)]\tLosses bn: 0.058397 drop: 0.157541 plain: 0.209723\n",
      "Train Epoch: 12 [20000/50000 (40%)]\tLosses bn: 0.042893 drop: 0.093585 plain: 0.120695\n",
      "Train Epoch: 12 [30000/50000 (60%)]\tLosses bn: 0.023599 drop: 0.090129 plain: 0.097065\n",
      "Train Epoch: 12 [40000/50000 (80%)]\tLosses bn: 0.009211 drop: 0.037523 plain: 0.038168\n",
      "Train Epoch: 12 [50000/50000 (100%)]\tLosses bn: 0.032363 drop: 0.131359 plain: 0.145799\n",
      "Test set:\n",
      "bn: Loss: 0.0570\tAccuracy: 9846.0/10000 (98%)\n",
      "drop: Loss: 0.1143\tAccuracy: 9697.0/10000 (97%)\n",
      "plain: Loss: 0.1278\tAccuracy: 9656.0/10000 (97%)\n",
      "\n",
      "Train Epoch: 13 [0/50000 (0%)]\tLosses bn: 0.046323 drop: 0.179630 plain: 0.189217\n",
      "Train Epoch: 13 [10000/50000 (20%)]\tLosses bn: 0.104248 drop: 0.269138 plain: 0.333608\n",
      "Train Epoch: 13 [20000/50000 (40%)]\tLosses bn: 0.056815 drop: 0.166554 plain: 0.164983\n"
     ]
    },
    {
     "name": "stdout",
     "output_type": "stream",
     "text": [
      "Train Epoch: 13 [30000/50000 (60%)]\tLosses bn: 0.030860 drop: 0.073833 plain: 0.111398\n",
      "Train Epoch: 13 [40000/50000 (80%)]\tLosses bn: 0.075022 drop: 0.149031 plain: 0.174248\n",
      "Train Epoch: 13 [50000/50000 (100%)]\tLosses bn: 0.041050 drop: 0.078985 plain: 0.092763\n",
      "Test set:\n",
      "bn: Loss: 0.0559\tAccuracy: 9840.0/10000 (98%)\n",
      "drop: Loss: 0.1077\tAccuracy: 9714.0/10000 (97%)\n",
      "plain: Loss: 0.1202\tAccuracy: 9683.0/10000 (97%)\n",
      "\n",
      "Train Epoch: 14 [0/50000 (0%)]\tLosses bn: 0.017172 drop: 0.065501 plain: 0.081702\n",
      "Train Epoch: 14 [10000/50000 (20%)]\tLosses bn: 0.008444 drop: 0.019939 plain: 0.023300\n",
      "Train Epoch: 14 [20000/50000 (40%)]\tLosses bn: 0.025224 drop: 0.056230 plain: 0.051004\n",
      "Train Epoch: 14 [30000/50000 (60%)]\tLosses bn: 0.015728 drop: 0.042007 plain: 0.045088\n",
      "Train Epoch: 14 [40000/50000 (80%)]\tLosses bn: 0.017283 drop: 0.030338 plain: 0.030079\n",
      "Train Epoch: 14 [50000/50000 (100%)]\tLosses bn: 0.067722 drop: 0.150601 plain: 0.151687\n",
      "Test set:\n",
      "bn: Loss: 0.0525\tAccuracy: 9858.0/10000 (99%)\n",
      "drop: Loss: 0.1020\tAccuracy: 9734.0/10000 (97%)\n",
      "plain: Loss: 0.1130\tAccuracy: 9696.0/10000 (97%)\n",
      "\n",
      "Train Epoch: 15 [0/50000 (0%)]\tLosses bn: 0.061504 drop: 0.146474 plain: 0.136324\n",
      "Train Epoch: 15 [10000/50000 (20%)]\tLosses bn: 0.108516 drop: 0.138001 plain: 0.181428\n",
      "Train Epoch: 15 [20000/50000 (40%)]\tLosses bn: 0.043747 drop: 0.150409 plain: 0.190336\n",
      "Train Epoch: 15 [30000/50000 (60%)]\tLosses bn: 0.046884 drop: 0.138711 plain: 0.156978\n",
      "Train Epoch: 15 [40000/50000 (80%)]\tLosses bn: 0.062305 drop: 0.100217 plain: 0.112063\n",
      "Train Epoch: 15 [50000/50000 (100%)]\tLosses bn: 0.050492 drop: 0.111588 plain: 0.147538\n",
      "Test set:\n",
      "bn: Loss: 0.0504\tAccuracy: 9856.0/10000 (99%)\n",
      "drop: Loss: 0.0966\tAccuracy: 9757.0/10000 (98%)\n",
      "plain: Loss: 0.1059\tAccuracy: 9732.0/10000 (97%)\n",
      "\n",
      "Train Epoch: 16 [0/50000 (0%)]\tLosses bn: 0.061330 drop: 0.048818 plain: 0.075030\n",
      "Train Epoch: 16 [10000/50000 (20%)]\tLosses bn: 0.035893 drop: 0.039308 plain: 0.047626\n",
      "Train Epoch: 16 [20000/50000 (40%)]\tLosses bn: 0.019505 drop: 0.031132 plain: 0.026427\n",
      "Train Epoch: 16 [30000/50000 (60%)]\tLosses bn: 0.017886 drop: 0.043996 plain: 0.048657\n",
      "Train Epoch: 16 [40000/50000 (80%)]\tLosses bn: 0.044455 drop: 0.113316 plain: 0.080852\n",
      "Train Epoch: 16 [50000/50000 (100%)]\tLosses bn: 0.062919 drop: 0.091245 plain: 0.097484\n",
      "Test set:\n",
      "bn: Loss: 0.0495\tAccuracy: 9864.0/10000 (99%)\n",
      "drop: Loss: 0.0926\tAccuracy: 9763.0/10000 (98%)\n",
      "plain: Loss: 0.1004\tAccuracy: 9738.0/10000 (97%)\n",
      "\n",
      "Train Epoch: 17 [0/50000 (0%)]\tLosses bn: 0.018780 drop: 0.051563 plain: 0.052413\n",
      "Train Epoch: 17 [10000/50000 (20%)]\tLosses bn: 0.054229 drop: 0.146870 plain: 0.149238\n",
      "Train Epoch: 17 [20000/50000 (40%)]\tLosses bn: 0.066331 drop: 0.121588 plain: 0.147744\n",
      "Train Epoch: 17 [30000/50000 (60%)]\tLosses bn: 0.031369 drop: 0.099331 plain: 0.115274\n",
      "Train Epoch: 17 [40000/50000 (80%)]\tLosses bn: 0.141232 drop: 0.156088 plain: 0.146287\n",
      "Train Epoch: 17 [50000/50000 (100%)]\tLosses bn: 0.118621 drop: 0.154721 plain: 0.153994\n",
      "Test set:\n",
      "bn: Loss: 0.0483\tAccuracy: 9857.0/10000 (99%)\n",
      "drop: Loss: 0.0879\tAccuracy: 9780.0/10000 (98%)\n",
      "plain: Loss: 0.0948\tAccuracy: 9748.0/10000 (97%)\n",
      "\n",
      "Train Epoch: 18 [0/50000 (0%)]\tLosses bn: 0.044495 drop: 0.142105 plain: 0.153640\n",
      "Train Epoch: 18 [10000/50000 (20%)]\tLosses bn: 0.011599 drop: 0.022650 plain: 0.027046\n",
      "Train Epoch: 18 [20000/50000 (40%)]\tLosses bn: 0.019841 drop: 0.124056 plain: 0.147939\n",
      "Train Epoch: 18 [30000/50000 (60%)]\tLosses bn: 0.012700 drop: 0.037883 plain: 0.055282\n",
      "Train Epoch: 18 [40000/50000 (80%)]\tLosses bn: 0.012479 drop: 0.051559 plain: 0.053365\n",
      "Train Epoch: 18 [50000/50000 (100%)]\tLosses bn: 0.035313 drop: 0.072471 plain: 0.075906\n",
      "Test set:\n",
      "bn: Loss: 0.0467\tAccuracy: 9870.0/10000 (99%)\n",
      "drop: Loss: 0.0841\tAccuracy: 9787.0/10000 (98%)\n",
      "plain: Loss: 0.0901\tAccuracy: 9771.0/10000 (98%)\n",
      "\n",
      "Train Epoch: 19 [0/50000 (0%)]\tLosses bn: 0.030533 drop: 0.079653 plain: 0.082832\n",
      "Train Epoch: 19 [10000/50000 (20%)]\tLosses bn: 0.025193 drop: 0.044466 plain: 0.046530\n",
      "Train Epoch: 19 [20000/50000 (40%)]\tLosses bn: 0.054073 drop: 0.084040 plain: 0.113548\n",
      "Train Epoch: 19 [30000/50000 (60%)]\tLosses bn: 0.013720 drop: 0.024543 plain: 0.033640\n",
      "Train Epoch: 19 [40000/50000 (80%)]\tLosses bn: 0.031616 drop: 0.060125 plain: 0.064182\n",
      "Train Epoch: 19 [50000/50000 (100%)]\tLosses bn: 0.008145 drop: 0.045841 plain: 0.052029\n",
      "Test set:\n",
      "bn: Loss: 0.0453\tAccuracy: 9874.0/10000 (99%)\n",
      "drop: Loss: 0.0812\tAccuracy: 9784.0/10000 (98%)\n",
      "plain: Loss: 0.0861\tAccuracy: 9772.0/10000 (98%)\n",
      "\n",
      "Train Epoch: 20 [0/50000 (0%)]\tLosses bn: 0.021310 drop: 0.050397 plain: 0.061545\n",
      "Train Epoch: 20 [10000/50000 (20%)]\tLosses bn: 0.041365 drop: 0.141965 plain: 0.162704\n",
      "Train Epoch: 20 [20000/50000 (40%)]\tLosses bn: 0.116382 drop: 0.120435 plain: 0.122019\n",
      "Train Epoch: 20 [30000/50000 (60%)]\tLosses bn: 0.084845 drop: 0.118420 plain: 0.112926\n",
      "Train Epoch: 20 [40000/50000 (80%)]\tLosses bn: 0.011341 drop: 0.068652 plain: 0.044988\n",
      "Train Epoch: 20 [50000/50000 (100%)]\tLosses bn: 0.010253 drop: 0.039908 plain: 0.041823\n",
      "Test set:\n",
      "bn: Loss: 0.0448\tAccuracy: 9868.0/10000 (99%)\n",
      "drop: Loss: 0.0791\tAccuracy: 9795.0/10000 (98%)\n",
      "plain: Loss: 0.0830\tAccuracy: 9782.0/10000 (98%)\n",
      "\n",
      "Train Epoch: 21 [0/50000 (0%)]\tLosses bn: 0.057907 drop: 0.063288 plain: 0.073460\n",
      "Train Epoch: 21 [10000/50000 (20%)]\tLosses bn: 0.121045 drop: 0.105327 plain: 0.097859\n",
      "Train Epoch: 21 [20000/50000 (40%)]\tLosses bn: 0.014034 drop: 0.030830 plain: 0.037124\n",
      "Train Epoch: 21 [30000/50000 (60%)]\tLosses bn: 0.016822 drop: 0.059202 plain: 0.046874\n",
      "Train Epoch: 21 [40000/50000 (80%)]\tLosses bn: 0.011512 drop: 0.071931 plain: 0.045579\n",
      "Train Epoch: 21 [50000/50000 (100%)]\tLosses bn: 0.009884 drop: 0.017915 plain: 0.020115\n",
      "Test set:\n",
      "bn: Loss: 0.0431\tAccuracy: 9879.0/10000 (99%)\n",
      "drop: Loss: 0.0762\tAccuracy: 9803.0/10000 (98%)\n",
      "plain: Loss: 0.0799\tAccuracy: 9785.0/10000 (98%)\n",
      "\n",
      "Train Epoch: 22 [0/50000 (0%)]\tLosses bn: 0.010254 drop: 0.053217 plain: 0.067615\n",
      "Train Epoch: 22 [10000/50000 (20%)]\tLosses bn: 0.015268 drop: 0.059256 plain: 0.080103\n",
      "Train Epoch: 22 [20000/50000 (40%)]\tLosses bn: 0.132299 drop: 0.155672 plain: 0.178075\n",
      "Train Epoch: 22 [30000/50000 (60%)]\tLosses bn: 0.005531 drop: 0.072836 plain: 0.041699\n",
      "Train Epoch: 22 [40000/50000 (80%)]\tLosses bn: 0.020197 drop: 0.017486 plain: 0.019061\n",
      "Train Epoch: 22 [50000/50000 (100%)]\tLosses bn: 0.005449 drop: 0.015108 plain: 0.015884\n",
      "Test set:\n",
      "bn: Loss: 0.0439\tAccuracy: 9871.0/10000 (99%)\n",
      "drop: Loss: 0.0750\tAccuracy: 9796.0/10000 (98%)\n",
      "plain: Loss: 0.0778\tAccuracy: 9801.0/10000 (98%)\n",
      "\n",
      "Train Epoch: 23 [0/50000 (0%)]\tLosses bn: 0.026629 drop: 0.040157 plain: 0.062082\n",
      "Train Epoch: 23 [10000/50000 (20%)]\tLosses bn: 0.140070 drop: 0.245801 plain: 0.250031\n",
      "Train Epoch: 23 [20000/50000 (40%)]\tLosses bn: 0.014181 drop: 0.026281 plain: 0.033169\n",
      "Train Epoch: 23 [30000/50000 (60%)]\tLosses bn: 0.056904 drop: 0.127029 plain: 0.152784\n",
      "Train Epoch: 23 [40000/50000 (80%)]\tLosses bn: 0.013381 drop: 0.054266 plain: 0.065534\n",
      "Train Epoch: 23 [50000/50000 (100%)]\tLosses bn: 0.028191 drop: 0.061906 plain: 0.078457\n",
      "Test set:\n",
      "bn: Loss: 0.0438\tAccuracy: 9875.0/10000 (99%)\n",
      "drop: Loss: 0.0723\tAccuracy: 9807.0/10000 (98%)\n",
      "plain: Loss: 0.0752\tAccuracy: 9802.0/10000 (98%)\n",
      "\n",
      "Train Epoch: 24 [0/50000 (0%)]\tLosses bn: 0.055016 drop: 0.071111 plain: 0.085143\n",
      "Train Epoch: 24 [10000/50000 (20%)]\tLosses bn: 0.025552 drop: 0.028949 plain: 0.044635\n",
      "Train Epoch: 24 [20000/50000 (40%)]\tLosses bn: 0.027213 drop: 0.078352 plain: 0.089635\n",
      "Train Epoch: 24 [30000/50000 (60%)]\tLosses bn: 0.011962 drop: 0.063883 plain: 0.059227\n",
      "Train Epoch: 24 [40000/50000 (80%)]\tLosses bn: 0.041787 drop: 0.063661 plain: 0.056821\n",
      "Train Epoch: 24 [50000/50000 (100%)]\tLosses bn: 0.021535 drop: 0.036287 plain: 0.041692\n",
      "Test set:\n",
      "bn: Loss: 0.0411\tAccuracy: 9884.0/10000 (99%)\n",
      "drop: Loss: 0.0704\tAccuracy: 9810.0/10000 (98%)\n",
      "plain: Loss: 0.0724\tAccuracy: 9808.0/10000 (98%)\n",
      "\n",
      "Train Epoch: 25 [0/50000 (0%)]\tLosses bn: 0.022389 drop: 0.097914 plain: 0.106703\n",
      "Train Epoch: 25 [10000/50000 (20%)]\tLosses bn: 0.039157 drop: 0.161770 plain: 0.172395\n",
      "Train Epoch: 25 [20000/50000 (40%)]\tLosses bn: 0.072257 drop: 0.114858 plain: 0.116754\n",
      "Train Epoch: 25 [30000/50000 (60%)]\tLosses bn: 0.031328 drop: 0.023399 plain: 0.022935\n",
      "Train Epoch: 25 [40000/50000 (80%)]\tLosses bn: 0.007748 drop: 0.019851 plain: 0.025120\n"
     ]
    },
    {
     "name": "stdout",
     "output_type": "stream",
     "text": [
      "Train Epoch: 25 [50000/50000 (100%)]\tLosses bn: 0.027666 drop: 0.038181 plain: 0.032450\n",
      "Test set:\n",
      "bn: Loss: 0.0409\tAccuracy: 9884.0/10000 (99%)\n",
      "drop: Loss: 0.0684\tAccuracy: 9816.0/10000 (98%)\n",
      "plain: Loss: 0.0703\tAccuracy: 9814.0/10000 (98%)\n",
      "\n"
     ]
    }
   ],
   "source": [
    "for epoch in range(1, 26):\n",
    "    for model in models.values():\n",
    "        model.train()\n",
    "    train(epoch, models, train_log)\n",
    "    for model in models.values():\n",
    "        model.eval()\n",
    "    test(models, valid_loader, test_log)"
   ]
  },
  {
   "cell_type": "code",
   "execution_count": 10,
   "metadata": {},
   "outputs": [
    {
     "data": {
      "image/png": "[encoded data removed]",
      "text/plain": [
       "<Figure size 432x288 with 1 Axes>"
      ]
     },
     "metadata": {
      "needs_background": "light"
     },
     "output_type": "display_data"
    }
   ],
   "source": [
    "plot_graphs(test_log, 'loss')"
   ]
  },
  {
   "cell_type": "code",
   "execution_count": 11,
   "metadata": {},
   "outputs": [
    {
     "data": {
      "image/png": "[encoded data removed]",
      "text/plain": [
       "<Figure size 432x288 with 1 Axes>"
      ]
     },
     "metadata": {
      "needs_background": "light"
     },
     "output_type": "display_data"
    }
   ],
   "source": [
    "plot_graphs(test_log, 'accuracy')"
   ]
  },
  {
   "cell_type": "markdown",
   "metadata": {},
   "source": [
    "# Activations maps"
   ]
  },
  {
   "cell_type": "code",
   "execution_count": 69,
   "metadata": {},
   "outputs": [
    {
     "name": "stdout",
     "output_type": "stream",
     "text": [
      "img shape torch.Size([1, 1, 28, 28])\n",
      "Conv1 shape torch.Size([1, 16, 14, 14])\n",
      "Conv2 shape torch.Size([1, 32, 7, 7])\n",
      "FC shape torch.Size([1, 10])\n"
     ]
    },
    {
     "data": {
      "text/plain": [
       "Net(\n",
       "  (_conv1): ConvLayer(\n",
       "    (model): Sequential(\n",
       "      (0): Conv2d(1, 16, kernel_size=(3, 3), stride=(1, 1), padding=(1, 1))\n",
       "      (1): MaxPool2d(kernel_size=2, stride=2, padding=0, dilation=1, ceil_mode=False)\n",
       "      (2): BatchNorm2d(16, eps=1e-05, momentum=0.1, affine=True, track_running_stats=True)\n",
       "      (3): ReLU()\n",
       "    )\n",
       "  )\n",
       "  (_conv2): ConvLayer(\n",
       "    (model): Sequential(\n",
       "      (0): Conv2d(16, 32, kernel_size=(3, 3), stride=(1, 1), padding=(1, 1))\n",
       "      (1): MaxPool2d(kernel_size=2, stride=2, padding=0, dilation=1, ceil_mode=False)\n",
       "      (2): BatchNorm2d(32, eps=1e-05, momentum=0.1, affine=True, track_running_stats=True)\n",
       "      (3): Sigmoid()\n",
       "    )\n",
       "  )\n",
       "  (fc): FullyConnected(\n",
       "    (model): Sequential(\n",
       "      (0): Linear(in_features=1568, out_features=10, bias=True)\n",
       "    )\n",
       "  )\n",
       ")"
      ]
     },
     "execution_count": 69,
     "metadata": {},
     "output_type": "execute_result"
    }
   ],
   "source": [
    "X_test, y_test = next(iter(test_loader))\n",
    "img = X_test[:1]\n",
    "img_ = img.view(-1, 28*28)\n",
    "conv1_output = models['bn']._conv1(img)\n",
    "conv2_output = models['bn']._conv2(conv1_output)\n",
    "fc_output = models['bn'].fc(conv2_output.view(-1, 32*7*7))\n",
    "\n",
    "img_shape = img.shape\n",
    "conv1_shape = conv1_output.shape\n",
    "conv2_shape = conv2_output.shape\n",
    "fc_shape = fc_output.shape\n",
    "\n",
    "print('img shape', img_shape)\n",
    "print('Conv1 shape', conv1_shape)\n",
    "print('Conv2 shape', conv2_shape)\n",
    "print('FC shape', fc_shape)\n",
    "\n",
    "models['bn']"
   ]
  },
  {
   "cell_type": "code",
   "execution_count": 13,
   "metadata": {},
   "outputs": [
    {
     "name": "stdout",
     "output_type": "stream",
     "text": [
      "Conv1\n"
     ]
    },
    {
     "data": {
      "image/png": "[encoded data removed]",
      "text/plain": [
       "<Figure size 648x144 with 16 Axes>"
      ]
     },
     "metadata": {
      "needs_background": "light"
     },
     "output_type": "display_data"
    }
   ],
   "source": [
    "print('Conv1')\n",
    "fig = plt.figure(figsize=(9, 2))\n",
    "for channel in range(conv1_shape[1]):\n",
    "    channel_image = conv1_output[:, channel, :, :]\n",
    "    plt.subplot(2, 8, channel+1)\n",
    "    plt.imshow(channel_image.detach().numpy()[0, :, :], cmap = matplotlib.cm.binary)\n",
    "    plt.axis('off')"
   ]
  },
  {
   "cell_type": "code",
   "execution_count": 14,
   "metadata": {},
   "outputs": [
    {
     "name": "stdout",
     "output_type": "stream",
     "text": [
      "Conv2\n"
     ]
    },
    {
     "data": {
      "image/png": "[encoded data removed]",
      "text/plain": [
       "<Figure size 648x288 with 32 Axes>"
      ]
     },
     "metadata": {
      "needs_background": "light"
     },
     "output_type": "display_data"
    }
   ],
   "source": [
    "print('Conv2')\n",
    "fig = plt.figure(figsize=(9, 4))\n",
    "for channel in range(conv2_shape[1]):\n",
    "    channel_image = conv2_output[:, channel, :, :]\n",
    "    plt.subplot(4, 8, channel+1)\n",
    "    plt.imshow(channel_image.detach().numpy()[0, :, :], cmap = matplotlib.cm.binary)\n",
    "    plt.axis('off')"
   ]
  },
  {
   "cell_type": "code",
   "execution_count": 15,
   "metadata": {},
   "outputs": [
    {
     "name": "stdout",
     "output_type": "stream",
     "text": [
      "FC\n"
     ]
    },
    {
     "data": {
      "text/plain": [
       "(-0.5, 9.5, 0.5, -0.5)"
      ]
     },
     "execution_count": 15,
     "metadata": {},
     "output_type": "execute_result"
    },
    {
     "data": {
      "image/png": "[encoded data removed]",
      "text/plain": [
       "<Figure size 648x216 with 1 Axes>"
      ]
     },
     "metadata": {
      "needs_background": "light"
     },
     "output_type": "display_data"
    }
   ],
   "source": [
    "print('FC')\n",
    "fig = plt.figure(figsize=(9, 3))\n",
    "plt.imshow(fc_output.detach().numpy(), cmap = matplotlib.cm.binary)\n",
    "plt.axis('off')"
   ]
  },
  {
   "cell_type": "markdown",
   "metadata": {},
   "source": [
    "# Filters (Оптимизация изображения под активацию сверточных нейронов классификатора)"
   ]
  },
  {
   "cell_type": "code",
   "execution_count": 64,
   "metadata": {},
   "outputs": [],
   "source": [
    "def generate_pattern(layer):\n",
    "    \n",
    "    if layer == 1:\n",
    "        layer_in = img_shape\n",
    "        layer_out = conv1_shape\n",
    "    elif layer == 2:\n",
    "        layer_in = conv1_shape\n",
    "        layer_out = conv2_shape\n",
    "        \n",
    "    filter_n = layer_out[1]\n",
    "    filters = []\n",
    "\n",
    "    for f in range(filter_n):\n",
    "        img = torch.tensor((np.random.rand(layer_in[0],\n",
    "                                           layer_in[1],\n",
    "                                           layer_in[2],\n",
    "                                           layer_in[3]) - 0.5) / 0.5, dtype=torch.float, requires_grad=True)\n",
    "        optimizer = optim.Adam([img], lr=5e-3)\n",
    "        for i in range(40):\n",
    "            optimizer.zero_grad()\n",
    "            \n",
    "            if layer == 1:\n",
    "                output = models['bn']._conv1(img)[:, f, :, :]\n",
    "            elif layer == 2:\n",
    "                output = models['bn']._conv2(img)[:, f, :, :]\n",
    "                \n",
    "            loss = -output.mean()\n",
    "            loss.backward()    \n",
    "            optimizer.step()\n",
    "\n",
    "        filters.append(output.detach().numpy())\n",
    "    \n",
    "    return filters"
   ]
  },
  {
   "cell_type": "code",
   "execution_count": 65,
   "metadata": {},
   "outputs": [
    {
     "name": "stdout",
     "output_type": "stream",
     "text": [
      "Conv1\n"
     ]
    },
    {
     "data": {
      "image/png": "[encoded data removed]",
      "text/plain": [
       "<Figure size 648x144 with 16 Axes>"
      ]
     },
     "metadata": {
      "needs_background": "light"
     },
     "output_type": "display_data"
    }
   ],
   "source": [
    "print('Conv1')\n",
    "filters = generate_pattern(1)\n",
    "\n",
    "fig = plt.figure(figsize=(9, 2))\n",
    "for n in range(len(filters)):\n",
    "    plt.subplot(2, 8, n + 1)\n",
    "    plt.imshow(filters[n][0, :, :], cmap = matplotlib.cm.binary)\n",
    "    plt.axis('off')"
   ]
  },
  {
   "cell_type": "code",
   "execution_count": 66,
   "metadata": {},
   "outputs": [
    {
     "name": "stdout",
     "output_type": "stream",
     "text": [
      "Conv2\n"
     ]
    },
    {
     "data": {
      "image/png": "[encoded data removed]",
      "text/plain": [
       "<Figure size 648x288 with 32 Axes>"
      ]
     },
     "metadata": {
      "needs_background": "light"
     },
     "output_type": "display_data"
    }
   ],
   "source": [
    "print('Conv2')\n",
    "filters = generate_pattern(2)\n",
    "\n",
    "fig = plt.figure(figsize=(9, 4))\n",
    "for n in range(len(filters)):\n",
    "    plt.subplot(4, 8, n + 1)\n",
    "    plt.imshow(filters[n][0, :, :], cmap = matplotlib.cm.binary)\n",
    "    plt.axis('off')"
   ]
  },
  {
   "cell_type": "code",
   "execution_count": null,
   "metadata": {},
   "outputs": [],
   "source": []
  }
 ],
 "metadata": {
  "kernelspec": {
   "display_name": "Python 3",
   "language": "python",
   "name": "python3"
  },
  "language_info": {
   "codemirror_mode": {
    "name": "ipython",
    "version": 3
   },
   "file_extension": ".py",
   "mimetype": "text/x-python",
   "name": "python",
   "nbconvert_exporter": "python",
   "pygments_lexer": "ipython3",
   "version": "3.7.4"
  }
 },
 "nbformat": 4,
 "nbformat_minor": 2
}
