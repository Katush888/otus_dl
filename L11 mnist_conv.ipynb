{
 "cells": [
  {
   "cell_type": "code",
   "execution_count": 1,
   "metadata": {},
   "outputs": [],
   "source": [
    "import torch\n",
    "import torch.nn as nn\n",
    "import torch.nn.functional as F\n",
    "import torch.optim as optim\n",
    "from torchvision import datasets, transforms\n",
    "\n",
    "from utils import mnist, plot_graphs, plot_mnist\n",
    "import numpy as np\n",
    "\n",
    "import matplotlib\n",
    "import matplotlib.pyplot as plt\n",
    "import numpy as np\n",
    "%matplotlib inline"
   ]
  },
  {
   "cell_type": "markdown",
   "metadata": {},
   "source": [
    "# Сверточный классификатор"
   ]
  },
  {
   "cell_type": "code",
   "execution_count": 2,
   "metadata": {},
   "outputs": [],
   "source": [
    "train_loader, valid_loader, test_loader = mnist(valid=10000, transform=transforms.ToTensor())"
   ]
  },
  {
   "cell_type": "code",
   "execution_count": 3,
   "metadata": {},
   "outputs": [],
   "source": [
    "class ConvLayer(nn.Module):\n",
    "    def __init__(self, size, padding=1, pool_layer=nn.MaxPool2d(2, stride=2),\n",
    "                 bn=False, dropout=False, activation_fn=nn.ReLU()):\n",
    "        super(ConvLayer, self).__init__()\n",
    "        layers = []\n",
    "        layers.append(nn.Conv2d(size[0], size[1], size[2], padding=padding))\n",
    "        if pool_layer is not None:\n",
    "            layers.append(pool_layer)\n",
    "        if bn:\n",
    "            layers.append(nn.BatchNorm2d(size[1]))\n",
    "        if dropout:\n",
    "            layers.append(nn.Dropout2d())\n",
    "        layers.append(activation_fn)\n",
    "        \n",
    "        self.model = nn.Sequential(*layers)\n",
    "    \n",
    "    def forward(self, x):\n",
    "        return self.model(x)"
   ]
  },
  {
   "cell_type": "code",
   "execution_count": 4,
   "metadata": {},
   "outputs": [],
   "source": [
    "class FullyConnected(nn.Module):\n",
    "    def __init__(self, sizes, dropout=False, activation_fn=nn.Tanh):\n",
    "        super(FullyConnected, self).__init__()\n",
    "        layers = []\n",
    "        \n",
    "        for i in range(len(sizes) - 2):\n",
    "            layers.append(nn.Linear(sizes[i], sizes[i+1]))\n",
    "            if dropout:\n",
    "                layers.append(nn.Dropout())\n",
    "            layers.append(activation_fn())\n",
    "        else: # нам не нужен дропаут и фнкция активации в последнем слое\n",
    "            layers.append(nn.Linear(sizes[-2], sizes[-1]))\n",
    "        \n",
    "        self.model = nn.Sequential(*layers)\n",
    "        \n",
    "    def forward(self, x):\n",
    "        return self.model(x)"
   ]
  },
  {
   "cell_type": "code",
   "execution_count": 5,
   "metadata": {},
   "outputs": [],
   "source": [
    "class Net(nn.Module):\n",
    "    def __init__(self, batchnorm=False, dropout=False, lr=1e-4, l2=0.):\n",
    "        super(Net, self).__init__()\n",
    "        \n",
    "        \n",
    "        self._conv1 = ConvLayer([1, 16, 3], bn=batchnorm)\n",
    "        self._conv2 = ConvLayer([16, 32, 3], bn=batchnorm, activation_fn=nn.Sigmoid())\n",
    "        \n",
    "        self.fc = FullyConnected([32*7*7, 10], dropout=dropout)\n",
    "        \n",
    "        self._loss = None\n",
    "        self.optim = optim.Adam(self.parameters(), lr=lr, weight_decay=l2)\n",
    "    \n",
    "    def conv(self, x):\n",
    "        x = self._conv1(x)\n",
    "        x = self._conv2(x)\n",
    "        return x\n",
    "        \n",
    "    def forward(self, x):\n",
    "        x = self.conv(x)\n",
    "        x = x.view(-1, 32*7*7)\n",
    "        x = self.fc(x)\n",
    "        return x\n",
    "    \n",
    "    def loss(self, output, target, **kwargs):\n",
    "        self._loss = F.cross_entropy(output, target, **kwargs)\n",
    "        self._correct = output.data.max(1, keepdim=True)[1]\n",
    "        self._correct = self._correct.eq(target.data.view_as(self._correct)).to(torch.float).cpu().mean()\n",
    "        return self._loss"
   ]
  },
  {
   "cell_type": "code",
   "execution_count": 6,
   "metadata": {},
   "outputs": [],
   "source": [
    "models = {'bn': Net(True), 'drop': Net(False, True), 'plain': Net()}\n",
    "train_log = {k: [] for k in models}\n",
    "test_log = {k: [] for k in models}"
   ]
  },
  {
   "cell_type": "code",
   "execution_count": 7,
   "metadata": {},
   "outputs": [],
   "source": [
    "def train(epoch, models, log=None):\n",
    "    train_size = len(train_loader.sampler)\n",
    "    for batch_idx, (data, target) in enumerate(train_loader):\n",
    "        for model in models.values():\n",
    "            model.optim.zero_grad()\n",
    "            output = model(data)\n",
    "            loss = model.loss(output, target)\n",
    "            loss.backward()\n",
    "            model.optim.step()\n",
    "            \n",
    "        if batch_idx % 200 == 0:\n",
    "            line = 'Train Epoch: {} [{}/{} ({:.0f}%)]\\tLosses '.format(\n",
    "                epoch, batch_idx * len(data), train_size, 100. * batch_idx / len(train_loader))\n",
    "            losses = ' '.join(['{}: {:.6f}'.format(k, m._loss.item()) for k, m in models.items()])\n",
    "            print(line + losses)\n",
    "            \n",
    "    else:\n",
    "        batch_idx += 1\n",
    "        line = 'Train Epoch: {} [{}/{} ({:.0f}%)]\\tLosses '.format(\n",
    "            epoch, batch_idx * len(data), train_size, 100. * batch_idx / len(train_loader))\n",
    "        losses = ' '.join(['{}: {:.6f}'.format(k, m._loss.item()) for k, m in models.items()])\n",
    "        if log is not None:\n",
    "            for k in models:\n",
    "                log[k].append((models[k]._loss, models[k]._correct))\n",
    "        print(line + losses)"
   ]
  },
  {
   "cell_type": "code",
   "execution_count": 259,
   "metadata": {},
   "outputs": [],
   "source": [
    "def test(models, loader, log=None):\n",
    "    test_size = len(loader.sampler)\n",
    "    avg_lambda = lambda l: 'Loss: {:.4f}'.format(l)\n",
    "    acc_lambda = lambda c, p: 'Accuracy: {}/{} ({:.0f}%)'.format(c, test_size, p)\n",
    "    line = lambda i, l, c, p: '{}: '.format(i) + avg_lambda(l) + '\\t' + acc_lambda(c, p)\n",
    "\n",
    "    test_loss = {k: 0. for k in models}\n",
    "    correct = {k: 0. for k in models}\n",
    "    with torch.no_grad():\n",
    "        for data, target in loader:\n",
    "            output = {k: m(data) for k, m in models.items()}\n",
    "            for k, m in models.items():\n",
    "                test_loss[k] += m.loss(output[k], target, reduction='sum').item() # sum up batch loss\n",
    "                pred = output[k].data.max(1, keepdim=True)[1] # get the index of the max log-probability\n",
    "                correct[k] += pred.eq(target.data.view_as(pred)).cpu().sum().item()\n",
    "    \n",
    "    for k in models:\n",
    "        test_loss[k] /= test_size\n",
    "    correct_pct = {k: c / test_size for k, c in correct.items()}\n",
    "    lines = '\\n'.join([line(k, test_loss[k], correct[k], 100*correct_pct[k]) for k in models]) + '\\n'\n",
    "    report = 'Test set:\\n' + lines\n",
    "    if log is not None:\n",
    "        for k in models:\n",
    "            log[k].append((test_loss[k], correct_pct[k]))\n",
    "    print(report)"
   ]
  },
  {
   "cell_type": "code",
   "execution_count": 9,
   "metadata": {
    "scrolled": true
   },
   "outputs": [
    {
     "name": "stdout",
     "output_type": "stream",
     "text": [
      "Train Epoch: 1 [0/50000 (0%)]\tLosses bn: 2.334873 drop: 2.311761 plain: 2.416324\n",
      "Train Epoch: 1 [10000/50000 (20%)]\tLosses bn: 1.599786 drop: 2.253293 plain: 2.257719\n",
      "Train Epoch: 1 [20000/50000 (40%)]\tLosses bn: 1.100063 drop: 2.180715 plain: 2.203662\n",
      "Train Epoch: 1 [30000/50000 (60%)]\tLosses bn: 0.761588 drop: 1.767864 plain: 1.837004\n",
      "Train Epoch: 1 [40000/50000 (80%)]\tLosses bn: 0.586572 drop: 1.328653 plain: 1.350680\n",
      "Train Epoch: 1 [50000/50000 (100%)]\tLosses bn: 0.450481 drop: 0.945651 plain: 0.952827\n",
      "Test set:\n",
      "bn: Loss: 0.4996\tAccuracy: 9239.0/10000 (92%)\n",
      "drop: Loss: 0.9922\tAccuracy: 8142.0/10000 (81%)\n",
      "plain: Loss: 0.9925\tAccuracy: 8098.0/10000 (81%)\n",
      "\n",
      "Train Epoch: 2 [0/50000 (0%)]\tLosses bn: 0.414336 drop: 0.910160 plain: 0.901971\n",
      "Train Epoch: 2 [10000/50000 (20%)]\tLosses bn: 0.436879 drop: 0.827083 plain: 0.834021\n",
      "Train Epoch: 2 [20000/50000 (40%)]\tLosses bn: 0.423492 drop: 0.766547 plain: 0.765066\n",
      "Train Epoch: 2 [30000/50000 (60%)]\tLosses bn: 0.277902 drop: 0.530505 plain: 0.526900\n",
      "Train Epoch: 2 [40000/50000 (80%)]\tLosses bn: 0.298627 drop: 0.564384 plain: 0.569948\n",
      "Train Epoch: 2 [50000/50000 (100%)]\tLosses bn: 0.295678 drop: 0.486254 plain: 0.489843\n",
      "Test set:\n",
      "bn: Loss: 0.2504\tAccuracy: 9535.0/10000 (95%)\n",
      "drop: Loss: 0.4492\tAccuracy: 8863.0/10000 (89%)\n",
      "plain: Loss: 0.4598\tAccuracy: 8809.0/10000 (88%)\n",
      "\n",
      "Train Epoch: 3 [0/50000 (0%)]\tLosses bn: 0.210581 drop: 0.396567 plain: 0.390244\n",
      "Train Epoch: 3 [10000/50000 (20%)]\tLosses bn: 0.226212 drop: 0.447649 plain: 0.446137\n",
      "Train Epoch: 3 [20000/50000 (40%)]\tLosses bn: 0.169860 drop: 0.348528 plain: 0.356383\n",
      "Train Epoch: 3 [30000/50000 (60%)]\tLosses bn: 0.154992 drop: 0.280307 plain: 0.305571\n",
      "Train Epoch: 3 [40000/50000 (80%)]\tLosses bn: 0.250790 drop: 0.478860 plain: 0.483425\n",
      "Train Epoch: 3 [50000/50000 (100%)]\tLosses bn: 0.180247 drop: 0.358652 plain: 0.383372\n",
      "Test set:\n",
      "bn: Loss: 0.1712\tAccuracy: 9629.0/10000 (96%)\n",
      "drop: Loss: 0.3263\tAccuracy: 9148.0/10000 (91%)\n",
      "plain: Loss: 0.3344\tAccuracy: 9115.0/10000 (91%)\n",
      "\n",
      "Train Epoch: 4 [0/50000 (0%)]\tLosses bn: 0.197564 drop: 0.414725 plain: 0.412612\n",
      "Train Epoch: 4 [10000/50000 (20%)]\tLosses bn: 0.126863 drop: 0.277104 plain: 0.278414\n",
      "Train Epoch: 4 [20000/50000 (40%)]\tLosses bn: 0.139151 drop: 0.326138 plain: 0.336665\n",
      "Train Epoch: 4 [30000/50000 (60%)]\tLosses bn: 0.110193 drop: 0.237811 plain: 0.233071\n",
      "Train Epoch: 4 [40000/50000 (80%)]\tLosses bn: 0.131079 drop: 0.222759 plain: 0.222442\n",
      "Train Epoch: 4 [50000/50000 (100%)]\tLosses bn: 0.110105 drop: 0.264393 plain: 0.268533\n",
      "Test set:\n",
      "bn: Loss: 0.1317\tAccuracy: 9690.0/10000 (97%)\n",
      "drop: Loss: 0.2617\tAccuracy: 9279.0/10000 (93%)\n",
      "plain: Loss: 0.2681\tAccuracy: 9266.0/10000 (93%)\n",
      "\n",
      "Train Epoch: 5 [0/50000 (0%)]\tLosses bn: 0.107171 drop: 0.228748 plain: 0.240299\n",
      "Train Epoch: 5 [10000/50000 (20%)]\tLosses bn: 0.074592 drop: 0.208124 plain: 0.209355\n",
      "Train Epoch: 5 [20000/50000 (40%)]\tLosses bn: 0.084124 drop: 0.194904 plain: 0.200416\n",
      "Train Epoch: 5 [30000/50000 (60%)]\tLosses bn: 0.135609 drop: 0.362815 plain: 0.363956\n",
      "Train Epoch: 5 [40000/50000 (80%)]\tLosses bn: 0.112174 drop: 0.228762 plain: 0.231255\n",
      "Train Epoch: 5 [50000/50000 (100%)]\tLosses bn: 0.091369 drop: 0.191126 plain: 0.193161\n",
      "Test set:\n",
      "bn: Loss: 0.1081\tAccuracy: 9722.0/10000 (97%)\n",
      "drop: Loss: 0.2208\tAccuracy: 9382.0/10000 (94%)\n",
      "plain: Loss: 0.2264\tAccuracy: 9359.0/10000 (94%)\n",
      "\n"
     ]
    }
   ],
   "source": [
    "for epoch in range(1, 6):\n",
    "    for model in models.values():\n",
    "        model.train()\n",
    "    train(epoch, models, train_log)\n",
    "    for model in models.values():\n",
    "        model.eval()\n",
    "    test(models, valid_loader, test_log)"
   ]
  },
  {
   "cell_type": "code",
   "execution_count": 10,
   "metadata": {},
   "outputs": [
    {
     "data": {
      "image/png": "[encoded data removed]",
      "text/plain": [
       "<Figure size 432x288 with 1 Axes>"
      ]
     },
     "metadata": {
      "needs_background": "light"
     },
     "output_type": "display_data"
    }
   ],
   "source": [
    "plot_graphs(test_log, 'loss')"
   ]
  },
  {
   "cell_type": "code",
   "execution_count": 11,
   "metadata": {},
   "outputs": [
    {
     "data": {
      "image/png": "[encoded data removed]",
      "text/plain": [
       "<Figure size 432x288 with 1 Axes>"
      ]
     },
     "metadata": {
      "needs_background": "light"
     },
     "output_type": "display_data"
    }
   ],
   "source": [
    "plot_graphs(test_log, 'accuracy')"
   ]
  },
  {
   "cell_type": "markdown",
   "metadata": {},
   "source": [
    "# Оптимизация изображения под активацию сверточных нейронов классификатора"
   ]
  },
  {
   "cell_type": "code",
   "execution_count": 286,
   "metadata": {},
   "outputs": [
    {
     "name": "stdout",
     "output_type": "stream",
     "text": [
      "img shape torch.Size([1, 1, 28, 28])\n"
     ]
    },
    {
     "data": {
      "text/plain": [
       "<matplotlib.image.AxesImage at 0x13743e4d0>"
      ]
     },
     "execution_count": 286,
     "metadata": {},
     "output_type": "execute_result"
    },
    {
     "data": {
      "image/png": "[encoded data removed]",
      "text/plain": [
       "<Figure size 288x288 with 1 Axes>"
      ]
     },
     "metadata": {
      "needs_background": "light"
     },
     "output_type": "display_data"
    }
   ],
   "source": [
    "X_test, y_test = next(iter(test_loader))\n",
    "img = X_test[:1]\n",
    "img_ = img.view(-1, 28*28)\n",
    "print('img shape', img.shape)\n",
    "plt.matshow(img[0, 0, :, :],  cmap = matplotlib.cm.binary)"
   ]
  },
  {
   "cell_type": "code",
   "execution_count": 287,
   "metadata": {},
   "outputs": [
    {
     "name": "stdout",
     "output_type": "stream",
     "text": [
      "Conv1 shape torch.Size([1, 16, 14, 14])\n"
     ]
    },
    {
     "data": {
      "text/plain": [
       "<matplotlib.image.AxesImage at 0x13757cc10>"
      ]
     },
     "execution_count": 287,
     "metadata": {},
     "output_type": "execute_result"
    },
    {
     "data": {
      "image/png": "[encoded data removed]",
      "text/plain": [
       "<Figure size 288x288 with 1 Axes>"
      ]
     },
     "metadata": {
      "needs_background": "light"
     },
     "output_type": "display_data"
    }
   ],
   "source": [
    "conv1_output = models['bn']._conv1(img)\n",
    "print('Conv1 shape', conv1_output.shape)\n",
    "plt.matshow(conv1_output.detach().numpy()[0, 0, :, :],  cmap = matplotlib.cm.binary)"
   ]
  },
  {
   "cell_type": "code",
   "execution_count": 290,
   "metadata": {},
   "outputs": [
    {
     "name": "stdout",
     "output_type": "stream",
     "text": [
      "Conv2 shape torch.Size([1, 32, 7, 7])\n"
     ]
    },
    {
     "data": {
      "text/plain": [
       "<matplotlib.image.AxesImage at 0x1376380d0>"
      ]
     },
     "execution_count": 290,
     "metadata": {},
     "output_type": "execute_result"
    },
    {
     "data": {
      "image/png": "[encoded data removed]",
      "text/plain": [
       "<Figure size 288x288 with 1 Axes>"
      ]
     },
     "metadata": {
      "needs_background": "light"
     },
     "output_type": "display_data"
    }
   ],
   "source": [
    "conv2_output = models['bn']._conv2(conv1_output)\n",
    "print('Conv2 shape', conv2_output.shape)\n",
    "plt.matshow(conv2_output.detach().numpy()[0, 0, :, :],  cmap = matplotlib.cm.binary)"
   ]
  },
  {
   "cell_type": "code",
   "execution_count": 293,
   "metadata": {},
   "outputs": [
    {
     "name": "stdout",
     "output_type": "stream",
     "text": [
      "FC shape torch.Size([1, 10])\n",
      "Result tensor(7.4055, grad_fn=<MaxBackward1>)\n"
     ]
    },
    {
     "data": {
      "text/plain": [
       "<matplotlib.image.AxesImage at 0x1376e55d0>"
      ]
     },
     "execution_count": 293,
     "metadata": {},
     "output_type": "execute_result"
    },
    {
     "data": {
      "image/png": "[encoded data removed]",
      "text/plain": [
       "<Figure size 1152x144 with 1 Axes>"
      ]
     },
     "metadata": {
      "needs_background": "light"
     },
     "output_type": "display_data"
    }
   ],
   "source": [
    "fc_output = models['bn'].fc(conv2_output.view(-1, 32*7*7))\n",
    "print('FC shape', fc_output.shape)\n",
    "print('Result', fc_output.max())\n",
    "plt.matshow(fc_output.detach().numpy(), cmap = matplotlib.cm.binary)"
   ]
  },
  {
   "cell_type": "code",
   "execution_count": 298,
   "metadata": {},
   "outputs": [
    {
     "name": "stdout",
     "output_type": "stream",
     "text": [
      "Conv1\n"
     ]
    },
    {
     "data": {
      "image/png": "[encoded data removed]",
      "text/plain": [
       "<Figure size 648x216 with 16 Axes>"
      ]
     },
     "metadata": {
      "needs_background": "light"
     },
     "output_type": "display_data"
    }
   ],
   "source": [
    "images_per_row = 8\n",
    "n_features = models['bn']._conv1.model[0].weight.shape[0]\n",
    "size = models['bn']._conv1.model[0].weight.shape[-1]\n",
    "n_cols = n_features // images_per_row\n",
    "display_grid = np.zeros((size * n_cols, images_per_row * size))\n",
    "\n",
    "print('Conv1')\n",
    "fig = plt.figure(figsize=(9, 3))\n",
    "for channel in range(16):\n",
    "    channel_image = conv1_output[:, channel, :, :]\n",
    "    channel_image -= channel_image.mean()\n",
    "    channel_image /= channel_image.std()\n",
    "    channel_image *= 64\n",
    "    channel_image += 128\n",
    "    channel_image = np.clip(channel_image.detach().numpy(), 0, 255).astype('uint8')\n",
    "    plt.subplot(2, 8, channel+1)\n",
    "    plt.imshow(channel_image[0, :, :], cmap = matplotlib.cm.binary)"
   ]
  },
  {
   "cell_type": "code",
   "execution_count": 299,
   "metadata": {},
   "outputs": [
    {
     "name": "stdout",
     "output_type": "stream",
     "text": [
      "Conv2\n"
     ]
    },
    {
     "data": {
      "image/png": "[encoded data removed]",
      "text/plain": [
       "<Figure size 648x216 with 16 Axes>"
      ]
     },
     "metadata": {
      "needs_background": "light"
     },
     "output_type": "display_data"
    }
   ],
   "source": [
    "print('Conv2')\n",
    "fig = plt.figure(figsize=(9, 3))\n",
    "for channel in range(16):\n",
    "    channel_image = conv2_output[:, channel, :, :]\n",
    "    channel_image -= channel_image.mean()\n",
    "    channel_image /= channel_image.std()\n",
    "    channel_image *= 64\n",
    "    channel_image += 128\n",
    "    channel_image = np.clip(channel_image.detach().numpy(), 0, 255).astype('uint8')\n",
    "    plt.subplot(2, 8, channel+1)\n",
    "    plt.imshow(channel_image[0, :, :], cmap = matplotlib.cm.binary)"
   ]
  },
  {
   "cell_type": "code",
   "execution_count": 300,
   "metadata": {},
   "outputs": [
    {
     "name": "stdout",
     "output_type": "stream",
     "text": [
      "FC\n"
     ]
    },
    {
     "data": {
      "text/plain": [
       "<matplotlib.image.AxesImage at 0x1349bc090>"
      ]
     },
     "execution_count": 300,
     "metadata": {},
     "output_type": "execute_result"
    },
    {
     "data": {
      "image/png": "[encoded data removed]",
      "text/plain": [
       "<Figure size 648x216 with 1 Axes>"
      ]
     },
     "metadata": {
      "needs_background": "light"
     },
     "output_type": "display_data"
    }
   ],
   "source": [
    "print('FC')\n",
    "fig = plt.figure(figsize=(9, 3))\n",
    "channel_image = fc_output\n",
    "channel_image -= channel_image.mean()\n",
    "channel_image /= channel_image.std()\n",
    "channel_image *= 64\n",
    "channel_image += 128\n",
    "channel_image = np.clip(channel_image.detach().numpy(), 0, 255).astype('uint8')\n",
    "plt.imshow(channel_image, cmap = matplotlib.cm.binary)"
   ]
  },
  {
   "cell_type": "code",
   "execution_count": null,
   "metadata": {},
   "outputs": [],
   "source": []
  }
 ],
 "metadata": {
  "kernelspec": {
   "display_name": "Python 3",
   "language": "python",
   "name": "python3"
  },
  "language_info": {
   "codemirror_mode": {
    "name": "ipython",
    "version": 3
   },
   "file_extension": ".py",
   "mimetype": "text/x-python",
   "name": "python",
   "nbconvert_exporter": "python",
   "pygments_lexer": "ipython3",
   "version": "3.7.4"
  }
 },
 "nbformat": 4,
 "nbformat_minor": 2
}
